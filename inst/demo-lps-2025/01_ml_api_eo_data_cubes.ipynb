{
 "cells": [
  {
   "cell_type": "markdown",
   "id": "47e935d5",
   "metadata": {},
   "source": [
    "# ML API Specification for EO Data Cubes\n",
    "### Brian Pondi and Rolf Simoes"
   ]
  },
  {
   "cell_type": "markdown",
   "id": "52330350",
   "metadata": {},
   "source": [
    "## Setup and Connection\n",
    "\n",
    "First, we load the required libraries and connect to the OpenEO backend.\n",
    "Install the `openeo` package variant that's on this GitHub repository: https://github.com/PondiB/openeo-python-client"
   ]
  },
  {
   "cell_type": "code",
   "execution_count": null,
   "id": "3843b5af",
   "metadata": {},
   "outputs": [],
   "source": [
    "import openeo # type: ignore"
   ]
  },
  {
   "cell_type": "code",
   "execution_count": null,
   "id": "71be7901",
   "metadata": {},
   "outputs": [],
   "source": [
    "connection = openeo.connect(url=\"http://127.0.0.1:8000\")"
   ]
  },
  {
   "cell_type": "code",
   "execution_count": null,
   "id": "91320354",
   "metadata": {},
   "outputs": [],
   "source": [
    "connection.authenticate_basic(\"brian\", \"123456\")"
   ]
  },
  {
   "cell_type": "code",
   "execution_count": null,
   "id": "5fb3d8b7",
   "metadata": {},
   "outputs": [],
   "source": [
    "connection.list_collection_ids()"
   ]
  },
  {
   "cell_type": "code",
   "execution_count": null,
   "id": "5908f1f7",
   "metadata": {},
   "outputs": [],
   "source": [
    "connection.describe_collection(\"mpc-sentinel-2-l2a\")"
   ]
  },
  {
   "cell_type": "markdown",
   "id": "fcfe823c",
   "metadata": {},
   "source": [
    "## Explore Available Processes\n",
    "\n",
    "Let's examine the available processes on the backend, particularly focusing on ML-related ones.\n"
   ]
  },
  {
   "cell_type": "code",
   "execution_count": null,
   "id": "bdefeff4",
   "metadata": {},
   "outputs": [],
   "source": [
    "process_ids = [process[\"id\"] for process in connection.list_processes()]\n",
    "print(\"Available processes on this backend:\")\n",
    "for process_id in process_ids:\n",
    "    print(f\"- {process_id}\")"
   ]
  },
  {
   "cell_type": "markdown",
   "id": "96808d5a",
   "metadata": {},
   "source": [
    "## Examine ML Process Details\n",
    "\n",
    "Let's look at the details of some ML processes to understand their parameters and requirements.\n"
   ]
  },
  {
   "cell_type": "code",
   "execution_count": null,
   "id": "f9a9acb5",
   "metadata": {},
   "outputs": [],
   "source": [
    "connection.describe_process(\"mlm_class_random_forest\")"
   ]
  },
  {
   "cell_type": "code",
   "execution_count": null,
   "id": "9e1c9a33",
   "metadata": {},
   "outputs": [],
   "source": [
    "connection.describe_process(\"mlm_class_tempcnn\")"
   ]
  },
  {
   "cell_type": "markdown",
   "id": "56ad5697",
   "metadata": {},
   "source": [
    "## Load and Prepare Data\n",
    "\n",
    "We'll load Sentinel-2 data and prepare it for our analysis."
   ]
  },
  {
   "cell_type": "code",
   "execution_count": null,
   "id": "3b8e084b",
   "metadata": {},
   "outputs": [],
   "source": [
    "datacube = connection.load_collection(\n",
    "    collection_id=\"mpc-sentinel-2-l2a\",\n",
    "    spatial_extent={\"west\": -63.6078, \"south\": -8.95630, \"east\": -63.25790, \"north\": -8.72290},\n",
    "    temporal_extent=[\"2022-01-01\", \"2022-12-31\"]\n",
    ")"
   ]
  },
  {
   "cell_type": "code",
   "execution_count": null,
   "id": "db29bbdf",
   "metadata": {},
   "outputs": [],
   "source": [
    "datacube = datacube.process(\n",
    "    process_id=\"cube_regularize\",\n",
    "    arguments={\n",
    "        \"data\": datacube,\n",
    "        \"period\": \"P1M\",  #16 days or 1 month  regularization \n",
    "        \"resolution\": 300\n",
    "    }\n",
    ")"
   ]
  },
  {
   "cell_type": "markdown",
   "id": "2f764640",
   "metadata": {},
   "source": [
    "## Load Training Data\n",
    "\n",
    "We'll load the pre-processed training data for deforestation in Rondonia.\n"
   ]
  },
  {
   "cell_type": "code",
   "execution_count": null,
   "id": "cc555722",
   "metadata": {},
   "outputs": [],
   "source": [
    "serialized_data = connection.readRDS(\"./data/samples_deforestation_rondonia_1M.rds\")"
   ]
  },
  {
   "cell_type": "markdown",
   "id": "c9c536f6",
   "metadata": {},
   "source": [
    "## Initialize and Train the Model\n",
    "\n",
    "Now we'll initialize the Temporal CNN model and train it with our data."
   ]
  },
  {
   "cell_type": "code",
   "execution_count": null,
   "id": "823e6ba9",
   "metadata": {},
   "outputs": [],
   "source": [
    "tempcnn_model_init = connection.mlm_class_tempcnn(\n",
    "    optimizer=\"adam\",\n",
    "    learning_rate=0.0005,\n",
    "    seed=42\n",
    ")"
   ]
  },
  {
   "cell_type": "markdown",
   "id": "7138704c",
   "metadata": {},
   "source": [
    "Fit the model using the training dataset"
   ]
  },
  {
   "cell_type": "code",
   "execution_count": null,
   "id": "91a5405a",
   "metadata": {},
   "outputs": [],
   "source": [
    "tempcnn_model = tempcnn_model_init.fit(\n",
    "    training_set=serialized_data,\n",
    "    target=\"label\"\n",
    ")"
   ]
  },
  {
   "cell_type": "markdown",
   "id": "58a86897",
   "metadata": {},
   "source": [
    "## Make Predictions\n",
    "\n",
    "Apply the trained model to make predictions on new data.\n"
   ]
  },
  {
   "cell_type": "code",
   "execution_count": null,
   "id": "7bfa9f13",
   "metadata": {},
   "outputs": [],
   "source": [
    "datacube =  tempcnn_model.predict(datacube)"
   ]
  },
  {
   "cell_type": "markdown",
   "id": "cebaa30c",
   "metadata": {},
   "source": [
    "## Save the Model\n",
    "\n",
    "Save the trained model for future use."
   ]
  },
  {
   "cell_type": "code",
   "execution_count": null,
   "id": "84c003a0",
   "metadata": {},
   "outputs": [],
   "source": [
    "tempcnn_model.save_ml_model(name =\"tempcnn_rondonia\", tasks=[\"classification\"]\n",
    "                            #, options={\"mlm:accelerator\":\"macos-arm\", \"mlm:framework\":\"Torch\"}\n",
    "                            )"
   ]
  },
  {
   "cell_type": "markdown",
   "id": "d15b2d3c",
   "metadata": {},
   "source": [
    "## Save and Execute Results\n",
    "\n",
    "Finally, we'll save the prediction results and execute the job.\n"
   ]
  },
  {
   "cell_type": "code",
   "execution_count": null,
   "id": "d7c4de9a",
   "metadata": {},
   "outputs": [],
   "source": [
    "result = datacube.save_result(\n",
    "    format=\"GeoTiff\"\n",
    ")"
   ]
  },
  {
   "cell_type": "code",
   "execution_count": null,
   "id": "d56dbc8a",
   "metadata": {},
   "outputs": [],
   "source": [
    "result"
   ]
  },
  {
   "cell_type": "code",
   "execution_count": null,
   "id": "8ca118fb",
   "metadata": {},
   "outputs": [],
   "source": [
    "job = result.create_job(\n",
    "    title=\"Deforestation Prediction in Rondonia\",\n",
    "    description=\"Using TempCNN model to predict deforestation in Rondonia\"\n",
    ")"
   ]
  },
  {
   "cell_type": "code",
   "execution_count": null,
   "id": "57b33b17",
   "metadata": {},
   "outputs": [],
   "source": [
    "job.start_and_wait()\n",
    "results = job.get_results()"
   ]
  },
  {
   "cell_type": "code",
   "execution_count": null,
   "id": "4a07e0f2",
   "metadata": {},
   "outputs": [],
   "source": [
    "results.download_files(\"data/output1\")"
   ]
  },
  {
   "cell_type": "markdown",
   "id": "4cb101ba",
   "metadata": {},
   "source": [
    "## Conclusion\n",
    "\n",
    "This example demonstrated how to:\n",
    "1. Connect to an OpenEO backend\n",
    "2. Load and prepare training data\n",
    "3. Define a Temporal CNN model architecture\n",
    "4. Train the model\n",
    "5. Make predictions on new data\n",
    "6. Save the results\n",
    "\n",
    "The trained model can now be used for making predictions on new time series data. "
   ]
  }
 ],
 "metadata": {
  "kernelspec": {
   "display_name": "Python (venv-sits)",
   "language": "python",
   "name": "venv-ml"
  },
  "language_info": {
   "codemirror_mode": {
    "name": "ipython",
    "version": 3
   },
   "file_extension": ".py",
   "mimetype": "text/x-python",
   "name": "python",
   "nbconvert_exporter": "python",
   "pygments_lexer": "ipython3",
   "version": "3.12.8"
  }
 },
 "nbformat": 4,
 "nbformat_minor": 5
}
