{
 "cells": [
  {
   "cell_type": "code",
   "execution_count": 1,
   "id": "258a724d",
   "metadata": {},
   "outputs": [
    {
     "name": "stderr",
     "output_type": "stream",
     "text": [
      "/Users/brianpondi/Library/Python/3.9/lib/python/site-packages/urllib3/__init__.py:35: NotOpenSSLWarning: urllib3 v2 only supports OpenSSL 1.1.1+, currently the 'ssl' module is compiled with 'LibreSSL 2.8.3'. See: https://github.com/urllib3/urllib3/issues/3020\n",
      "  warnings.warn(\n"
     ]
    },
    {
     "ename": "",
     "evalue": "",
     "output_type": "error",
     "traceback": [
      "\u001b[1;31mThe Kernel crashed while executing code in the current cell or a previous cell. \n",
      "\u001b[1;31mPlease review the code in the cell(s) to identify a possible cause of the failure. \n",
      "\u001b[1;31mClick <a href='https://aka.ms/vscodeJupyterKernelCrash'>here</a> for more info. \n",
      "\u001b[1;31mView Jupyter <a href='command:jupyter.viewOutput'>log</a> for further details."
     ]
    }
   ],
   "source": [
    "import openeo"
   ]
  },
  {
   "cell_type": "markdown",
   "id": "fac251f7",
   "metadata": {},
   "source": [
    "import openeo "
   ]
  },
  {
   "cell_type": "code",
   "execution_count": null,
   "id": "0c95205e",
   "metadata": {},
   "outputs": [],
   "source": [
    "connection = openeo.connect(url=\"http://127.0.0.1:8000\")"
   ]
  },
  {
   "cell_type": "code",
   "execution_count": null,
   "id": "d5693745",
   "metadata": {},
   "outputs": [],
   "source": [
    "connection.authenticate_basic(\"brian\", \"123456\")"
   ]
  },
  {
   "cell_type": "code",
   "execution_count": null,
   "id": "35189c9c",
   "metadata": {},
   "outputs": [],
   "source": [
    "datacube = connection.load_collection(\n",
    "    collection_id=\"mpc-sentinel-2-l2a\",\n",
    "    spatial_extent={\"west\": -63.6078, \"south\": -8.95630, \"east\": -63.25790, \"north\": -8.72290},\n",
    "    temporal_extent=[\"2022-01-01\", \"2022-12-31\"]\n",
    ")"
   ]
  },
  {
   "cell_type": "code",
   "execution_count": null,
   "id": "e2d3d05a",
   "metadata": {},
   "outputs": [],
   "source": [
    "datacube_reg = datacube.process(\n",
    "    process_id=\"cube_regularize\",\n",
    "    arguments={\n",
    "        \"data\": datacube,\n",
    "        \"period\": \"P1M\",  #16 days or 1 month  regularization \n",
    "        \"resolution\": 300\n",
    "    }\n",
    ")"
   ]
  },
  {
   "cell_type": "code",
   "execution_count": null,
   "id": "aa985052",
   "metadata": {},
   "outputs": [],
   "source": [
    "#serialized_data = connection.readRDS(\"./data/samples_deforestation_rondonia.rds\")"
   ]
  },
  {
   "cell_type": "code",
   "execution_count": null,
   "id": "01061019",
   "metadata": {},
   "outputs": [],
   "source": [
    "# tempcnn_model_init = connection.mlm_class_tempcnn(\n",
    "#     optimizer=\"adam\",\n",
    "#     learning_rate=0.0005,\n",
    "#     seed=42\n",
    "# )"
   ]
  },
  {
   "cell_type": "code",
   "execution_count": null,
   "id": "0830a0c6",
   "metadata": {},
   "outputs": [],
   "source": [
    "# tempcnn_model = tempcnn_model_init.fit(\n",
    "#     training_set=serialized_data,\n",
    "#     target=\"label\"\n",
    "# )"
   ]
  },
  {
   "cell_type": "code",
   "execution_count": null,
   "id": "2ed1d091",
   "metadata": {},
   "outputs": [],
   "source": [
    "# tempcnn_model.save_ml_model(name =\"tempcnn_rondonia\", tasks=[\"classification\"]\n",
    "#                             #, options={\"mlm:accelerator\":\"macos-arm\", \"mlm:framework\":\"Torch\"}\n",
    "#                             )"
   ]
  },
  {
   "cell_type": "code",
   "execution_count": null,
   "id": "5cd3aa9d",
   "metadata": {},
   "outputs": [],
   "source": [
    "# datacube_pred =  tempcnn_model.predict(datacube_reg)"
   ]
  },
  {
   "cell_type": "code",
   "execution_count": null,
   "id": "d7641803",
   "metadata": {},
   "outputs": [],
   "source": [
    "result = datacube_reg.save_result(\n",
    "    format=\"GeoTiff\"\n",
    ")"
   ]
  },
  {
   "cell_type": "code",
   "execution_count": null,
   "id": "04ecf72b",
   "metadata": {},
   "outputs": [],
   "source": [
    "result"
   ]
  },
  {
   "cell_type": "code",
   "execution_count": null,
   "id": "3ed0370b",
   "metadata": {},
   "outputs": [],
   "source": [
    "job = result.create_job(\n",
    "    title=\"Debug 1\",\n",
    "    description=\"ML api data cube\"\n",
    ")"
   ]
  },
  {
   "cell_type": "code",
   "execution_count": null,
   "id": "032ef1f9",
   "metadata": {},
   "outputs": [],
   "source": [
    "job.start_and_wait()\n",
    "results = job.get_results()"
   ]
  },
  {
   "cell_type": "code",
   "execution_count": null,
   "id": "659c140a",
   "metadata": {},
   "outputs": [],
   "source": [
    "results.download_files(\"data/testdir\")"
   ]
  }
 ],
 "metadata": {
  "kernelspec": {
   "display_name": "Python 3",
   "language": "python",
   "name": "python3"
  },
  "language_info": {
   "codemirror_mode": {
    "name": "ipython",
    "version": 3
   },
   "file_extension": ".py",
   "mimetype": "text/x-python",
   "name": "python",
   "nbconvert_exporter": "python",
   "pygments_lexer": "ipython3",
   "version": "3.9.6"
  }
 },
 "nbformat": 4,
 "nbformat_minor": 5
}
